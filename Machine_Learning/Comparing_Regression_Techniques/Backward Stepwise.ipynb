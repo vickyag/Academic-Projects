{
 "cells": [
  {
   "cell_type": "code",
   "execution_count": 40,
   "metadata": {
    "collapsed": true
   },
   "outputs": [],
   "source": [
    "import pandas as pd\n",
    "import numpy as np\n",
    "import seaborn as sns\n",
    "import math\n",
    "import matplotlib.pyplot as plt\n",
    "from sklearn.model_selection import KFold\n",
    "import statsmodels.formula.api as sm\n",
    "\n",
    "def loadData():\n",
    "    train = pd.read_csv(\"kc_house_train_data.csv\")\n",
    "    test = pd.read_csv(\"kc_house_test_data.csv\")\n",
    "    return [train, test]\n",
    "\n",
    "def normalizeData(data):\n",
    "    data  = (data - data.mean())/data.std()\n",
    "    return data\n",
    "\n",
    "def load_testData():\n",
    "    [train, test] = loadData()\n",
    "    test_IDs = test['id']\n",
    "    test_actual_price = np.array(test['price'])\n",
    "    test = test.drop(['id', 'price'], axis = 1)\n",
    "    i = 0\n",
    "    conv_dates = []\n",
    "    for value in test['date']:\n",
    "        year = int(value[:4])\n",
    "        month = int(value[4:6])\n",
    "        day = int(value[6:8])\n",
    "        conv_dates.insert(i, year*365 + month*30 + day) \n",
    "        i = i+1\n",
    "    min_date = min(conv_dates)\n",
    "    conv_dates = [date-min_date for date in conv_dates]\n",
    "    test['date'] = conv_dates\n",
    "    test = normalizeData(test)\n",
    "    test_actual_price = (test_actual_price-np.mean(test_actual_price))/np.std(test_actual_price)\n",
    "    return [test, test_actual_price]\n",
    "\n",
    "def load_trainData():\n",
    "    [train, test] = loadData()\n",
    "    train_IDs = train['id']\n",
    "    train_actual_price = np.array(train['price'])    \n",
    "    train = train.drop(['id', 'price'], axis = 1)    \n",
    "    i = 0\n",
    "    conv_dates = []\n",
    "    for value in train['date']:\n",
    "        year = int(value[:4])\n",
    "        month = int(value[4:6])\n",
    "        day = int(value[6:8])\n",
    "        conv_dates.insert(i, year*365 + month*30 + day) \n",
    "        i = i+1\n",
    "    min_date = min(conv_dates)\n",
    "    conv_dates = [date-min_date for date in conv_dates]\n",
    "    train['date'] = conv_dates\n",
    "    train = normalizeData(train)    \n",
    "    train_actual_price = (train_actual_price-np.mean(train_actual_price))/np.std(train_actual_price)    \n",
    "    return [train, train_actual_price]\n",
    "\n",
    "def compute_cost(actual_price, predicted_price):\n",
    "    sq_loss = (actual_price - predicted_price)**2\n",
    "    cost = np.sum(sq_loss)\n",
    "    return cost/(actual_price.shape[0])\n",
    "\n",
    "def backStep(X, y):\n",
    "    regressor_OLS = sm.OLS(endog = y, exog = X).fit()\n",
    "    p_values = np.round(regressor_OLS.pvalues, 5)\n",
    "    to_drop = np.argmax(p_values[1:])+1\n",
    "    print(regressor_OLS.params)\n",
    "    print(\"\\n\",p_values)\n",
    "    print(\"drop: %d\"%to_drop)\n",
    "    return regressor_OLS.params\n",
    "\n",
    "[train ,Y_train] = load_trainData()\n",
    "X_train = np.array(train)\n",
    "X_train = np.append (arr = np.ones([X_train.shape[0],1]).astype(int), values = X_train, axis = 1)\n"
   ]
  },
  {
   "cell_type": "code",
   "execution_count": 41,
   "metadata": {},
   "outputs": [
    {
     "name": "stdout",
     "output_type": "stream",
     "text": [
      "[  4.14605850e-13   3.60272985e-02  -9.82838467e-02   8.77189791e-02\n",
      "   2.24565971e-01   1.74701457e-02   7.46968620e-03   1.42824892e-01\n",
      "   1.02838439e-01   4.67793408e-02   3.14511380e-01   2.08559081e-01\n",
      "   7.75558379e-02  -2.13020292e-01   2.24571667e-02  -8.75625162e-02\n",
      "   2.27307356e-01  -8.14467873e-02   3.77315837e-02  -2.86973184e-02]\n",
      "\n",
      " [ 1.       0.       0.       0.       0.       0.00398  0.2022   0.       0.\n",
      "  0.       0.       0.       0.       0.       0.       0.       0.       0.\n",
      "  0.       0.     ]\n",
      "drop: 6\n"
     ]
    }
   ],
   "source": [
    "itr1 = backStep(X_train, Y_train)"
   ]
  },
  {
   "cell_type": "code",
   "execution_count": 42,
   "metadata": {},
   "outputs": [
    {
     "name": "stdout",
     "output_type": "stream",
     "text": [
      "[  4.17535798e-13   3.59869046e-02  -9.84836274e-02   9.02540140e-02\n",
      "   2.24846732e-01   1.73579715e-02   1.42852710e-01   1.02972568e-01\n",
      "   4.64725091e-02   3.15330181e-01   2.10172475e-01   7.51353118e-02\n",
      "  -2.11201799e-01   2.27209877e-02  -8.68911848e-02   2.27795431e-01\n",
      "  -8.20478614e-02   3.67485230e-02  -2.89555583e-02]\n",
      "\n",
      " [ 1.       0.       0.       0.       0.       0.00422  0.       0.       0.\n",
      "  0.       0.       0.       0.       0.       0.       0.       0.       0.\n",
      "  0.     ]\n",
      "drop: 5\n"
     ]
    }
   ],
   "source": [
    "X_train = np.delete(X_train, 6, 1)\n",
    "itr2 = backStep(X_train, Y_train).tolist()\n",
    "itr2.insert(6,0)\n",
    "itr2 = np.array(itr2)"
   ]
  },
  {
   "cell_type": "code",
   "execution_count": 43,
   "metadata": {},
   "outputs": [
    {
     "name": "stdout",
     "output_type": "stream",
     "text": [
      "[  4.17535798e-13   3.59869046e-02  -9.84836274e-02   9.02540140e-02\n",
      "   2.24846732e-01   1.73579715e-02   0.00000000e+00   1.42852710e-01\n",
      "   1.02972568e-01   4.64725091e-02   3.15330181e-01   2.10172475e-01\n",
      "   7.51353118e-02  -2.11201799e-01   2.27209877e-02  -8.68911848e-02\n",
      "   2.27795431e-01  -8.20478614e-02   3.67485230e-02  -2.89555583e-02]\n"
     ]
    }
   ],
   "source": [
    "print(itr2)"
   ]
  },
  {
   "cell_type": "code",
   "execution_count": 44,
   "metadata": {},
   "outputs": [
    {
     "name": "stdout",
     "output_type": "stream",
     "text": [
      "[  4.12800003e-13   3.60488630e-02  -9.88810124e-02   9.02957750e-02\n",
      "   2.25600491e-01   1.42584547e-01   1.03409572e-01   4.61935164e-02\n",
      "   3.15589232e-01   2.10949997e-01   7.52514070e-02  -2.12080941e-01\n",
      "   2.25281518e-02  -8.69525394e-02   2.27386200e-01  -8.10782372e-02\n",
      "   3.56787833e-02  -1.66828082e-02]\n",
      "\n",
      " [  1.00000000e+00   0.00000000e+00   0.00000000e+00   0.00000000e+00\n",
      "   0.00000000e+00   0.00000000e+00   0.00000000e+00   0.00000000e+00\n",
      "   0.00000000e+00   0.00000000e+00   0.00000000e+00   0.00000000e+00\n",
      "   0.00000000e+00   0.00000000e+00   0.00000000e+00   0.00000000e+00\n",
      "   0.00000000e+00   1.30000000e-04]\n",
      "drop: 17\n"
     ]
    }
   ],
   "source": [
    "X_train = np.delete(X_train, 5, 1)\n",
    "itr3 = backStep(X_train, Y_train).tolist()\n",
    "itr3.insert(5,0)\n",
    "itr3.insert(6,0)\n",
    "itr3 = np.array(itr3)"
   ]
  },
  {
   "cell_type": "code",
   "execution_count": 45,
   "metadata": {},
   "outputs": [
    {
     "name": "stdout",
     "output_type": "stream",
     "text": [
      "[  4.12800003e-13   3.60488630e-02  -9.88810124e-02   9.02957750e-02\n",
      "   2.25600491e-01   0.00000000e+00   0.00000000e+00   1.42584547e-01\n",
      "   1.03409572e-01   4.61935164e-02   3.15589232e-01   2.10949997e-01\n",
      "   7.52514070e-02  -2.12080941e-01   2.25281518e-02  -8.69525394e-02\n",
      "   2.27386200e-01  -8.10782372e-02   3.56787833e-02  -1.66828082e-02]\n"
     ]
    }
   ],
   "source": [
    "print(itr3)"
   ]
  },
  {
   "cell_type": "code",
   "execution_count": 46,
   "metadata": {},
   "outputs": [
    {
     "data": {
      "text/plain": [
       "array([  1.80584714e-15,  -2.15644713e-05,   5.97165664e-04,\n",
       "        -2.57679587e-03,  -1.03452073e-03,   1.74701457e-02,\n",
       "         7.46968620e-03,   2.40345565e-04,  -5.71132249e-04,\n",
       "         5.85824490e-04,  -1.07785200e-03,  -2.39091610e-03,\n",
       "         2.30443087e-03,  -9.39350469e-04,  -7.09851202e-05,\n",
       "        -6.09976859e-04,  -7.88438921e-05,  -3.68550098e-04,\n",
       "         2.05280050e-03,  -1.20145102e-02])"
      ]
     },
     "execution_count": 46,
     "metadata": {},
     "output_type": "execute_result"
    }
   ],
   "source": [
    "itr1-itr3"
   ]
  },
  {
   "cell_type": "code",
   "execution_count": 47,
   "metadata": {},
   "outputs": [
    {
     "data": {
      "text/plain": [
       "array([ -1.20145102e-02,  -2.57679587e-03,  -2.39091610e-03,\n",
       "        -1.07785200e-03,  -1.03452073e-03,  -9.39350469e-04,\n",
       "        -6.09976859e-04,  -5.71132249e-04,  -3.68550098e-04,\n",
       "        -7.88438921e-05,  -7.09851202e-05,  -2.15644713e-05,\n",
       "         1.80584714e-15,   2.40345565e-04,   5.85824490e-04,\n",
       "         5.97165664e-04,   2.05280050e-03,   2.30443087e-03,\n",
       "         7.46968620e-03,   1.74701457e-02])"
      ]
     },
     "execution_count": 47,
     "metadata": {},
     "output_type": "execute_result"
    }
   ],
   "source": [
    "np.sort(itr1-itr3)"
   ]
  },
  {
   "cell_type": "code",
   "execution_count": 48,
   "metadata": {},
   "outputs": [
    {
     "data": {
      "image/png": "[encoded data removed]",
      "text/plain": [
       "<matplotlib.figure.Figure at 0x1f8303a80b8>"
      ]
     },
     "metadata": {},
     "output_type": "display_data"
    }
   ],
   "source": [
    "plt.plot([1,2,3], [itr1[3], itr2[3],itr3[3]], label = \"X3\")\n",
    "plt.plot([1,2,3], [itr1[5], itr2[5], itr3[5]], label = \"X5\")\n",
    "plt.plot([1,2,3], [itr1[6], itr2[6], itr3[6]], label = \"X6\")\n",
    "plt.plot([1,2,3], [itr1[11], itr2[11], itr3[11]], label = \"X11\")\n",
    "plt.plot([1,2,3], [itr1[12], itr2[12], itr3[12]], label = \"X12\")\n",
    "plt.legend()\n",
    "plt.show()\n",
    "plt.savefig(\"Backward Selection Corff profile.png\")"
   ]
  },
  {
   "cell_type": "code",
   "execution_count": 49,
   "metadata": {},
   "outputs": [
    {
     "name": "stdout",
     "output_type": "stream",
     "text": [
      "0.29660402845\n"
     ]
    }
   ],
   "source": [
    "weight = np.array(itr3[1:])\n",
    "bias = itr3[0]\n",
    "Y_hat_train = np.dot(np.array(train), weight)+bias\n",
    "print(compute_cost(Y_train, Y_hat_train))"
   ]
  },
  {
   "cell_type": "code",
   "execution_count": 50,
   "metadata": {},
   "outputs": [
    {
     "data": {
      "image/png": "[encoded data removed]",
      "text/plain": [
       "<matplotlib.figure.Figure at 0x1f83085d0f0>"
      ]
     },
     "metadata": {},
     "output_type": "display_data"
    }
   ],
   "source": [
    "plt.scatter(Y_train, Y_hat_train)\n",
    "plt.show()\n",
    "plt.savefig(\"test vs predict.png\")"
   ]
  },
  {
   "cell_type": "code",
   "execution_count": 51,
   "metadata": {},
   "outputs": [
    {
     "name": "stdout",
     "output_type": "stream",
     "text": [
      "0.309356575933\n"
     ]
    }
   ],
   "source": [
    "[test ,Y_test] = load_testData()\n",
    "X_test = np.array(test)\n",
    "X_test = np.append (arr = np.ones([X_test.shape[0],1]).astype(int), values = X_test, axis = 1)\n",
    "Y_hat_test = np.dot(np.array(test), weight)+bias\n",
    "print(compute_cost(Y_test, Y_hat_test))"
   ]
  },
  {
   "cell_type": "code",
   "execution_count": null,
   "metadata": {
    "collapsed": true
   },
   "outputs": [],
   "source": []
  }
 ],
 "metadata": {
  "kernelspec": {
   "display_name": "Python 3",
   "language": "python",
   "name": "python3"
  },
  "language_info": {
   "codemirror_mode": {
    "name": "ipython",
    "version": 3
   },
   "file_extension": ".py",
   "mimetype": "text/x-python",
   "name": "python",
   "nbconvert_exporter": "python",
   "pygments_lexer": "ipython3",
   "version": "3.6.3"
  }
 },
 "nbformat": 4,
 "nbformat_minor": 2
}
